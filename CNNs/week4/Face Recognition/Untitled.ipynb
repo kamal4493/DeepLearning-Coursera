{
 "cells": [
  {
   "cell_type": "code",
   "execution_count": 4,
   "metadata": {},
   "outputs": [],
   "source": [
    "from random import randint\n",
    "import cv2\n",
    "import sys\n",
    "import os\n",
    "      \n",
    "CASCADE=\"Face_cascade.xml\"\n",
    "FACE_CASCADE=cv2.CascadeClassifier(CASCADE)\n",
    "\n",
    "def detect_faces(image_path):\n",
    "\n",
    "    #image=cv2.imread(image_path)\n",
    "    image = image_path\n",
    "    image_grey=cv2.cvtColor(image,cv2.COLOR_BGR2GRAY)\n",
    "\n",
    "    faces = FACE_CASCADE.detectMultiScale(image_grey,scaleFactor=1.16,minNeighbors=5,minSize=(25,25),flags=0)\n",
    "  \n",
    "    if faces:\n",
    "        for x,y,w,h in faces:\n",
    "            sub_img=image[y-10:y+h+10,x-10:x+w+10]\n",
    "            os.chdir(\"Extracted\")\n",
    "            cv2.imwrite(str(randint(0,10000))+\".jpg\",sub_img)\n",
    "            os.chdir(\"../\")\n",
    "            cv2.rectangle(image,(x,y),(x+w,y+h),(255, 255,0),2)\n",
    "\n",
    "        cv2.imshow(\"Faces Found\",image)\n",
    "        print(\"face found\")\n",
    "        if (cv2.waitKey(0) & 0xFF == ord('q')) or (cv2.waitKey(0) & 0xFF == ord('Q')):\n",
    "            cv2.destroyAllWindows()\n",
    "            \n",
    "        return True\n",
    "    else :\n",
    "        return False"
   ]
  },
  {
   "cell_type": "code",
   "execution_count": 5,
   "metadata": {
    "collapsed": true
   },
   "outputs": [],
   "source": [
    "def TakeSnapshotAndSave():\n",
    "    # access the webcam (every webcam has a number, the default is 0)\n",
    "    cap = cv2.VideoCapture(0)\n",
    "\n",
    "    while(True):\n",
    "        # Capture frame-by-frame\n",
    "        ret, frame = cap.read()\n",
    "        if detect_faces(frame):\n",
    "            break\n",
    "        # to detect faces in video\n",
    "#         gray = cv2.cvtColor(frame, cv2.COLOR_BGR2GRAY)\n",
    "#         faces = face_cascade.detectMultiScale(gray, 1.3, 5)\n",
    "\n",
    "#         for (x,y,w,h) in faces:\n",
    "#             cv2.rectangle(frame,(x,y),(x+w,y+h),(255,0,0),2)\n",
    "#             roi_gray = gray[y:y+h, x:x+w]\n",
    "#             roi_color = frame[y:y+h, x:x+w]\n",
    "\n",
    "#         x = 0\n",
    "#         y = 20\n",
    "#         text_color = (0,255,0)\n",
    "#         # write on the live stream video\n",
    "#         cv2.putText(frame, \"Press q when ready\", (x,y), cv2.FONT_HERSHEY_PLAIN, 1.0, text_color, thickness=2)\n",
    "\n",
    "\n",
    "#         # if you want to convert it to gray uncomment and display gray not fame\n",
    "#         #gray = cv2.cvtColor(frame, cv2.COLOR_BGR2GRAY)\n",
    "\n",
    "#         # Display the resulting frame\n",
    "#         cv2.imshow('frame',frame)\n",
    "#         # press the letter \"q\" to save the picture\n",
    "#         if cv2.waitKey(1) & 0xFF == ord('q'):\n",
    "#             # write the captured image with this name\n",
    "#             cv2.imwrite('try.jpg',frame)\n",
    "#             break\n",
    "\n",
    "    # When everything done, release the capture\n",
    "    cap.release()\n",
    "    cv2.destroyAllWindows()"
   ]
  },
  {
   "cell_type": "code",
   "execution_count": 6,
   "metadata": {},
   "outputs": [
    {
     "ename": "error",
     "evalue": "/io/opencv/modules/imgproc/src/color.cpp:10638: error: (-215) scn == 3 || scn == 4 in function cvtColor\n",
     "output_type": "error",
     "traceback": [
      "\u001b[0;31m---------------------------------------------------------------------------\u001b[0m",
      "\u001b[0;31merror\u001b[0m                                     Traceback (most recent call last)",
      "\u001b[0;32m<ipython-input-6-5686cb0b89c8>\u001b[0m in \u001b[0;36m<module>\u001b[0;34m()\u001b[0m\n\u001b[1;32m      3\u001b[0m \u001b[0;34m\u001b[0m\u001b[0m\n\u001b[1;32m      4\u001b[0m \u001b[0;31m#detect_faces(\"images/group_faces.jpg\")\u001b[0m\u001b[0;34m\u001b[0m\u001b[0;34m\u001b[0m\u001b[0m\n\u001b[0;32m----> 5\u001b[0;31m \u001b[0mTakeSnapshotAndSave\u001b[0m\u001b[0;34m(\u001b[0m\u001b[0;34m)\u001b[0m\u001b[0;34m\u001b[0m\u001b[0m\n\u001b[0m",
      "\u001b[0;32m<ipython-input-5-0b360fe554ce>\u001b[0m in \u001b[0;36mTakeSnapshotAndSave\u001b[0;34m()\u001b[0m\n\u001b[1;32m      6\u001b[0m         \u001b[0;31m# Capture frame-by-frame\u001b[0m\u001b[0;34m\u001b[0m\u001b[0;34m\u001b[0m\u001b[0m\n\u001b[1;32m      7\u001b[0m         \u001b[0mret\u001b[0m\u001b[0;34m,\u001b[0m \u001b[0mframe\u001b[0m \u001b[0;34m=\u001b[0m \u001b[0mcap\u001b[0m\u001b[0;34m.\u001b[0m\u001b[0mread\u001b[0m\u001b[0;34m(\u001b[0m\u001b[0;34m)\u001b[0m\u001b[0;34m\u001b[0m\u001b[0m\n\u001b[0;32m----> 8\u001b[0;31m         \u001b[0;32mif\u001b[0m \u001b[0mdetect_faces\u001b[0m\u001b[0;34m(\u001b[0m\u001b[0mframe\u001b[0m\u001b[0;34m)\u001b[0m\u001b[0;34m:\u001b[0m\u001b[0;34m\u001b[0m\u001b[0m\n\u001b[0m\u001b[1;32m      9\u001b[0m             \u001b[0;32mbreak\u001b[0m\u001b[0;34m\u001b[0m\u001b[0m\n\u001b[1;32m     10\u001b[0m         \u001b[0;31m# to detect faces in video\u001b[0m\u001b[0;34m\u001b[0m\u001b[0;34m\u001b[0m\u001b[0m\n",
      "\u001b[0;32m<ipython-input-4-57df48652cae>\u001b[0m in \u001b[0;36mdetect_faces\u001b[0;34m(image_path)\u001b[0m\n\u001b[1;32m     11\u001b[0m     \u001b[0;31m#image=cv2.imread(image_path)\u001b[0m\u001b[0;34m\u001b[0m\u001b[0;34m\u001b[0m\u001b[0m\n\u001b[1;32m     12\u001b[0m     \u001b[0mimage\u001b[0m \u001b[0;34m=\u001b[0m \u001b[0mimage_path\u001b[0m\u001b[0;34m\u001b[0m\u001b[0m\n\u001b[0;32m---> 13\u001b[0;31m     \u001b[0mimage_grey\u001b[0m\u001b[0;34m=\u001b[0m\u001b[0mcv2\u001b[0m\u001b[0;34m.\u001b[0m\u001b[0mcvtColor\u001b[0m\u001b[0;34m(\u001b[0m\u001b[0mimage\u001b[0m\u001b[0;34m,\u001b[0m\u001b[0mcv2\u001b[0m\u001b[0;34m.\u001b[0m\u001b[0mCOLOR_BGR2GRAY\u001b[0m\u001b[0;34m)\u001b[0m\u001b[0;34m\u001b[0m\u001b[0m\n\u001b[0m\u001b[1;32m     14\u001b[0m \u001b[0;34m\u001b[0m\u001b[0m\n\u001b[1;32m     15\u001b[0m     \u001b[0mfaces\u001b[0m \u001b[0;34m=\u001b[0m \u001b[0mFACE_CASCADE\u001b[0m\u001b[0;34m.\u001b[0m\u001b[0mdetectMultiScale\u001b[0m\u001b[0;34m(\u001b[0m\u001b[0mimage_grey\u001b[0m\u001b[0;34m,\u001b[0m\u001b[0mscaleFactor\u001b[0m\u001b[0;34m=\u001b[0m\u001b[0;36m1.16\u001b[0m\u001b[0;34m,\u001b[0m\u001b[0mminNeighbors\u001b[0m\u001b[0;34m=\u001b[0m\u001b[0;36m5\u001b[0m\u001b[0;34m,\u001b[0m\u001b[0mminSize\u001b[0m\u001b[0;34m=\u001b[0m\u001b[0;34m(\u001b[0m\u001b[0;36m25\u001b[0m\u001b[0;34m,\u001b[0m\u001b[0;36m25\u001b[0m\u001b[0;34m)\u001b[0m\u001b[0;34m,\u001b[0m\u001b[0mflags\u001b[0m\u001b[0;34m=\u001b[0m\u001b[0;36m0\u001b[0m\u001b[0;34m)\u001b[0m\u001b[0;34m\u001b[0m\u001b[0m\n",
      "\u001b[0;31merror\u001b[0m: /io/opencv/modules/imgproc/src/color.cpp:10638: error: (-215) scn == 3 || scn == 4 in function cvtColor\n"
     ]
    }
   ],
   "source": [
    "if not \"Extracted\" in os.listdir(\".\"):\n",
    "    os.mkdir(\"Extracted\")\n",
    "\n",
    "#detect_faces(\"images/group_faces.jpg\")\n",
    "TakeSnapshotAndSave()"
   ]
  }
 ],
 "metadata": {
  "kernelspec": {
   "display_name": "Python 3",
   "language": "python",
   "name": "python3"
  },
  "language_info": {
   "codemirror_mode": {
    "name": "ipython",
    "version": 3
   },
   "file_extension": ".py",
   "mimetype": "text/x-python",
   "name": "python",
   "nbconvert_exporter": "python",
   "pygments_lexer": "ipython3",
   "version": "3.6.0"
  }
 },
 "nbformat": 4,
 "nbformat_minor": 2
}
